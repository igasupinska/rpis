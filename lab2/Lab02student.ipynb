{
 "cells": [
  {
   "cell_type": "markdown",
   "metadata": {},
   "source": [
    "# Discrete sampling\n",
    "In the last problem of the first session we sampled with given probabilities using prefix sums and binary search. The sampling code is the bottleneck of the whole process, its running times is 3 times higher than the code for uniform probabilities, and the difference would only increase for larger number of outcomes. In the next two problems we discuss two simple, but powerful techniques one can use to sample in time $O(1)$."
   ]
  },
  {
   "cell_type": "markdown",
   "metadata": {},
   "source": [
    "**Problem 2a.** Consider the problem of sampling with known probabilities $p_1,\\ldots,p_d$. Suppose that you have a black-box that samples with probabilities $q_1,\\ldots,q_d$ that are close to $p_1,\\ldots,p_d$, say\n",
    "$$ \\forall_{i=1,\\ldots,n} p_i \\le (1+\\varepsilon)q_i.$$\n",
    "\n",
    "* How can you use this black-box to sample with probabilities $p_1,\\ldots,p_d$? It is expected, that the running time of the algorithm would be non-deterministic.\n",
    "* Prove that your algorithm is correct.\n",
    "* Implement the algorithm and use it to give a faster implementation for **Problem 1c**."
   ]
  },
  {
   "cell_type": "markdown",
   "metadata": {},
   "source": [
    "(Solved during class)\n",
    "We scale down $p_i$, by setting $\\hat{p_i} = p_i / (1+\\varepsilon)$. We have $\\hat{p_i} \\le q_i$.\n",
    "Now sample with probabilities $q_i$. Say $k$ is sampled. \n",
    "Toss a coin, and with probability $\\hat{p_k}/q_k$ pick $k$, otherwise repeat.\n",
    "The proof is a simple application of conditional probabilities.\n",
    "Also, this works in expected $O(1)$, but we do not yet know expectation, so do not elaborate on this too much.\n",
    "The idea used here is very simple but very potent. It appears again and again in theory and probably in practice\n",
    "too.\n",
    "\n",
    "Here is an important point: you can use this scheme without knowing all the $p_i$, it is enough \n",
    "to know that $p_i$ and $q_i$ are close. This can be very useful, when $n$ is very large, but $p_i$ have \n",
    "no structure to exploit, etc.\n",
    "\n",
    "Another nice feature of this scheme is that it very naturally handles small changes to $p_i$. For example, in our\n",
    "problem, we might choose to actually sample PEOPLE and not dates. This would require decreasing birth counters\n",
    "after each sample is taken. The results would obviously be almost the same, since these numbers are really large, \n",
    "but if we insist on doing this, this method would be the way to go.\n",
    "\n",
    "The birthday setting does not satisfy the $\\varepsilon$-condition for any reasonably small epsilon, mainly \n",
    "because of the outliers (errors). But the algorithm still works, the running time is actually smaller than \n",
    "for the binarysearch version (but only slightly). Why does it work?"
   ]
  },
  {
   "cell_type": "code",
   "execution_count": 64,
   "metadata": {},
   "outputs": [
    {
     "data": {
      "image/png": "[encoded data removed]",
      "text/plain": [
       "<Figure size 432x288 with 1 Axes>"
      ]
     },
     "metadata": {
      "needs_background": "light"
     },
     "output_type": "display_data"
    },
    {
     "name": "stdout",
     "output_type": "stream",
     "text": [
      "[19, 22, 21, 20, 24, 18, 17, 16, 25, 23, 26, 15, 27, 14, 13, 28, 12, 29, 30, 11, 31, 32, 10, 33, 34, 9, 35, 36, 8, 37, 7, 38, 39, 6, 40, 41, 42, 5, 43, 44, 4, 45, 46, 47, 48, 3, 49, 50, 51, 52, 53, 2, 54, 55, 56, 57, 58, 59, 60, 61, 62, 64, 63, 66, 67, 65, 68, 70, 69, 71, 72, 73, 74, 75, 77, 80, 76, 78, 79, 82, 84, 83]\n",
      "24.59017\n"
     ]
    }
   ],
   "source": [
    "%matplotlib inline\n",
    "import matplotlib.pyplot as plt\n",
    "import numpy as np\n",
    "import random\n",
    "stats = np.loadtxt('us_births_69_88.csv',skiprows=1,delimiter=',',dtype=int)\n",
    "\n",
    "\n",
    "def empDates(dCnt,bMax):\n",
    "    s = set()\n",
    "    for k in range(dCnt):\n",
    "        while True:\n",
    "            day = random.randint(0,dCnt-1)\n",
    "            if random.randint(1,bMax) <= stats[day,2]:\n",
    "                break\n",
    "        if day in s:\n",
    "            return k+1\n",
    "        else:\n",
    "            s.add(day)\n",
    "            \n",
    "            \n",
    "dCnt = stats.shape[0]\n",
    "bMax = np.max(stats[:,2])\n",
    "            \n",
    "empSample = [empDates(dCnt,bMax) for iter in range(100000)]\n",
    "# %timeit empSample = [empDates(dCnt,bMax) for iter in range(100000)]\n",
    "\n",
    "plt.hist(empSample,bins=range(1,101))\n",
    "plt.show()\n",
    "\n",
    "k_counts = sorted(list(set(empSample)), key=empSample.count, reverse=True)\n",
    "print(k_counts)\n",
    "\n",
    "print(sum(empSample)/len(empSample))\n"
   ]
  },
  {
   "cell_type": "markdown",
   "metadata": {},
   "source": [
    "**Problem 2b.** One of the reasons this implementation is not significantly faster than the one in **Problem 1c** , apart from $d$ being rather small, is that we are using Python's interpreter a bit too much, and Python is slow. One way around this is usually to use a library function - **searchsorted** is much faster than an equivalent code implemented in pure Python. But even if the functionality you need is not implemented in a lower level language as\n",
    "a library function, there is still hope. You can try to implement it using optimized array algebra, for example using **numpy**. In this problem, your task is to rewrite the previous algorithm, so that the amount of *looping* is reduced to a minimum necessary. In particular, you should create a *vectorized* version of random dates generation (in bulk), while the actual search for duplicates remains a loop with a **set**. Here are some useful tips:\n",
    "   * You can perform arithmetic, comparisons, etc. on **numpy** arrays.\n",
    "   * You can generate whole **numpy** arrays of random numbers at once.\n",
    "   * You can even perform parallel look-up like in the example below."
   ]
  },
  {
   "cell_type": "code",
   "execution_count": 20,
   "metadata": {
    "scrolled": false
   },
   "outputs": [
    {
     "name": "stdout",
     "output_type": "stream",
     "text": [
      "[3 3 7 7]\n",
      "[2 1 4]\n"
     ]
    }
   ],
   "source": [
    "X = np.array([10,3,7])\n",
    "I = np.array([1,1,2,2])\n",
    "print(X[I])\n",
    "X = np.array([[1,2],[3,4]])\n",
    "I = np.array([0,0,1])\n",
    "J = np.array([1,0,1])\n",
    "print(X[I,J])"
   ]
  },
  {
   "cell_type": "code",
   "execution_count": 6,
   "metadata": {},
   "outputs": [
    {
     "name": "stdout",
     "output_type": "stream",
     "text": [
      "212915\n"
     ]
    }
   ],
   "source": []
  },
  {
   "cell_type": "markdown",
   "metadata": {},
   "source": [
    "**Problem 2c (Squaring the histogram).** In this problem, we again want to sample with known probabilities $p_1,\\ldots,p_n$, but this time we make no assumptions on $p_i$. Consider the following algorithm:\n",
    "   * Let $V$ be the mean of $p_i$, i.e. $V=\\frac{1}{n}$.\n",
    "   * Create $n$ buckets, each with volume $V$, put each $p_i$ into a separate bucket.\n",
    "   * Until there exists a bucket $A$ that is not full, find a bucket $B$ that overflows, and trasfer probability from $B$ to $A$ until $A$ is exactly full\n",
    "\n",
    "Show that:\n",
    "   * This algorithm always ends.\n",
    "   * When it ends, each bucket contains pieces of exactly two $p_i$'s.\n",
    "\n",
    "How to use the result of this algorithm to sample with probabilities $p_i$. Argue that your algorithm is correct and implement it. The sampling part should be *vectorized*. Use this algorithm to sample birthdates again, and test its efficiency."
   ]
  },
  {
   "cell_type": "markdown",
   "metadata": {},
   "source": [
    "**Proof**:\n",
    "* **Algorithm always ends.**\n",
    "\n",
    "In every step we transfer probability from an overflowing bucket B to the bucket A that is not full, making it exactly full. Hence, with every iteration we get one step closer to the desired state. This algorithm always ends as for every bucket that is not full there will always be at least one that is overflowing since the sum of all probabilities $p_1+\\ldots+p_n$= $n\\frac{1}{n}$.\n",
    "\n",
    "* **Each bucket contains pieces of maximum two $p_i$'s.**\n",
    "\n",
    "First, let's see why the statement \"each bucket contains piece of exactly two $p_i$'s\" is not really true. Suppose we have just two buckets and $p_1 = 0.50 + x$, $p_2 = 0.50 - x$. It is clear that by transferring $x$ from the overflowing bucket to the other one, we come to the desired state and the first bucket contains probability of just one $p_i$.  \n",
    "Now, let's prove the statement.  \n",
    "Suppose we have a bucket $b_i$ that is not full. We already know that there must exist a bucket $b_k$ that is overflowing. So let's transfer probability from $b_k$ to $b_i$. $b_i$ is now exactly full and contatins pieces of two buckets - itself and $b_k$, and since it is exactly full, we will never make any changes to it in the future.  \n",
    "For $b_k$ there are two scenarios - it might be exactly full or not full after the transfer. In the first case, no changes are needed, hence $b_k$ contains probability of exactly one bucket. In the second case, we follow the exact same steps as for $b_i$, so that in the end $b_k$ contains probabilities of two buckets.\n",
    "\n",
    "* **The algorithm for sampling.**\n",
    "\n",
    "Let's use the square histogram method described here http://www.robertowor.com/csci4151/lecture3.htm. By creating a square with area filled with probabilities  $p_1,\\ldots,p_n$ we are able to sample with given probabilities: we uniformally choose a point in the square and depending on where it lays, it is asssigned to one of the given probabilities."
   ]
  },
  {
   "cell_type": "code",
   "execution_count": 86,
   "metadata": {},
   "outputs": [
    {
     "data": {
      "image/png": "[encoded data removed]",
      "text/plain": [
       "<Figure size 432x288 with 1 Axes>"
      ]
     },
     "metadata": {
      "needs_background": "light"
     },
     "output_type": "display_data"
    },
    {
     "name": "stdout",
     "output_type": "stream",
     "text": [
      "24.60311\n"
     ]
    }
   ],
   "source": [
    "%matplotlib inline\n",
    "import matplotlib.pyplot as plt\n",
    "import numpy as np\n",
    "import random\n",
    "stats = np.loadtxt('us_births_69_88.csv',skiprows=1,delimiter=',',dtype=int)\n",
    "\n",
    "birthsCount = sum(stats[:,2])\n",
    "daysCount = stats.shape[0]\n",
    "probability = np.array(stats[:,2]/birthsCount)\n",
    "avgProbability = 1/daysCount\n",
    "\n",
    "bottomBin = probability\n",
    "borrowedFrom = np.zeros(bottomBin.shape[0])\n",
    "borrowedFrom.fill(-1)\n",
    "divider = np.zeros(bottomBin.shape[0])\n",
    "\n",
    "def squareHistogram():\n",
    "    while (len(np.argwhere(bottomBin < avgProbability)) > 0):\n",
    "        toIndex = np.argwhere(bottomBin < avgProbability)[0,0]\n",
    "        if (len(np.argwhere(bottomBin > avgProbability)) > 0):\n",
    "            fromIndex = np.argwhere(bottomBin > avgProbability)[0,0]\n",
    "            borrowedFrom[toIndex] = fromIndex\n",
    "            bottomBin[fromIndex] -= (avgProbability - bottomBin[toIndex])\n",
    "            divider[toIndex] = bottomBin[toIndex]\n",
    "            bottomBin[toIndex] = avgProbability\n",
    "        else:\n",
    "            #due to floating-point numbers we need to set last bin manually\n",
    "            bottomBin[toIndex] = avgProbability\n",
    "            divider[toIndex] = bottomBin[toIndex]\n",
    "            \n",
    "    \n",
    "    \n",
    "def empDates(i, daysCount):\n",
    "    s = set()\n",
    "\n",
    "    for k in range(daysCount):\n",
    "        binNo = random.randint(0, daysCount-1)\n",
    "        pointHeight = random.uniform(0, avgProbability)\n",
    "        \n",
    "        if divider[binNo] != 0 and pointHeight <= divider[binNo]:\n",
    "            day = binNo\n",
    "        else:\n",
    "            day = borrowedFrom[binNo]\n",
    "\n",
    "        if day in s:\n",
    "            return k+1\n",
    "        else:\n",
    "            s.add(day)\n",
    "                \n",
    "squareHistogram()\n",
    "empSampleVector = np.vectorize(empDates)\n",
    "empSample = empSampleVector(np.zeros(100000), daysCount)\n",
    "\n",
    "# %timeit empSample = empSampleVector(np.zeros(100000), daysCount)\n",
    "\n",
    "plt.hist(empSample,bins=range(1,101))\n",
    "plt.show()\n",
    "\n",
    "print(sum(empSample)/len(empSample))"
   ]
  },
  {
   "cell_type": "markdown",
   "metadata": {},
   "source": [
    "\n",
    "**Problem 2d.** Show that the frequency histogram for empirical birthday frequencies can actually be computed exactly, and implement your idea. To this end, design a recurence relation using conditional probabilities and use dynamic programming."
   ]
  },
  {
   "cell_type": "markdown",
   "metadata": {},
   "source": [
    "**BONUS**. An alternative plotting library: plotly"
   ]
  },
  {
   "cell_type": "code",
   "execution_count": null,
   "metadata": {},
   "outputs": [],
   "source": [
    "#install plotly with: pip install plotly\n",
    "#you can run this shell command directly from Jupyter, by prefixing it with !\n",
    "!pip install plotly\n",
    "\n",
    "from plotly.offline import download_plotlyjs, init_notebook_mode, plot, iplot\n",
    "import plotly.graph_objs as go\n",
    "import numpy as np\n",
    "\n",
    "init_notebook_mode(connected=True)\n",
    "\n",
    "# example scatterplot\n",
    "\n",
    "x = np.linspace(0, 1, 10)\n",
    "y = x * x\n",
    "\n",
    "iplot([go.Scatter(x=x, y=y, name=\"y=x^2\"), go.Scatter(x=x, y=-y, name=\"y=-x^2\")])\n",
    "\n",
    "# example heatmap\n",
    "\n",
    "iplot([go.Heatmap(z=[[10, 20, 30, 40],\n",
    "                      [20, 30, 40, 50],\n",
    "                      [30, 40, 50, 60]])])\n"
   ]
  }
 ],
 "metadata": {
  "kernelspec": {
   "display_name": "Python 3",
   "language": "python",
   "name": "python3"
  },
  "language_info": {
   "codemirror_mode": {
    "name": "ipython",
    "version": 3
   },
   "file_extension": ".py",
   "mimetype": "text/x-python",
   "name": "python",
   "nbconvert_exporter": "python",
   "pygments_lexer": "ipython3",
   "version": "3.6.4"
  }
 },
 "nbformat": 4,
 "nbformat_minor": 1
}
